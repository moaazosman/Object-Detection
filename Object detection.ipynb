{
 "cells": [
  {
   "cell_type": "markdown",
   "id": "7d9729b3-feb8-4a28-83f2-a34bb7dd59c3",
   "metadata": {},
   "source": [
    "---\n",
    "# Object Detection Project"
   ]
  },
  {
   "cell_type": "markdown",
   "id": "cb486ad6-4891-48cf-aa66-586382464cce",
   "metadata": {},
   "source": [
    "## Importing Essential Librarie"
   ]
  },
  {
   "cell_type": "code",
   "execution_count": 1,
   "id": "bc1ea4d2-4226-4b9d-b8bc-c781e98319c3",
   "metadata": {},
   "outputs": [],
   "source": [
    "import numpy as np\n",
    "import imutils\n",
    "import cv2"
   ]
  },
  {
   "cell_type": "markdown",
   "id": "5895f9e7-14f0-42c1-9669-2c698e83e0c1",
   "metadata": {},
   "source": [
    "## Loading MobileNetSSD Model with CUDA Acceleration"
   ]
  },
  {
   "cell_type": "code",
   "execution_count": 2,
   "id": "384b40fb-208e-4ab9-8360-b9894ee3214e",
   "metadata": {},
   "outputs": [
    {
     "name": "stdout",
     "output_type": "stream",
     "text": [
      "[INFO] setting preferable backend and target to CUDA...\n"
     ]
    }
   ],
   "source": [
    "# Load the model\n",
    "net = cv2.dnn.readNetFromCaffe('MobileNetSSD_model.prototxt', 'MobileNetSSD_model.caffemodel')\n",
    "\n",
    "# Set preferable backend and target to CUDA if using GPU\n",
    "use_gpu = True\n",
    "if use_gpu:\n",
    "    print(\"[INFO] setting preferable backend and target to CUDA...\")\n",
    "    net.setPreferableBackend(cv2.dnn.DNN_BACKEND_CUDA)\n",
    "    net.setPreferableTarget(cv2.dnn.DNN_TARGET_CUDA)"
   ]
  },
  {
   "cell_type": "markdown",
   "id": "86e052ef-3116-408f-b4c4-2bf7827eebdb",
   "metadata": {},
   "source": [
    "## Defining Classes, Colors, and Confidence Threshold for Object Detection"
   ]
  },
  {
   "cell_type": "code",
   "execution_count": 3,
   "id": "8a830afa-9374-4e22-b68c-9fff917e97f0",
   "metadata": {},
   "outputs": [],
   "source": [
    "# Load classes and colors\n",
    "CLASSES = [\"background\", \"aeroplane\", \"bicycle\", \"bird\", \"boat\",\n",
    "           \"bottle\", \"bus\", \"car\", \"cat\", \"chair\", \"cow\", \"diningtable\",\n",
    "           \"dog\", \"horse\", \"motorbike\", \"person\", \"pottedplant\", \"sheep\",\n",
    "           \"sofa\", \"train\", \"tvmonitor\"]\n",
    "COLORS = np.random.uniform(0, 255, size=(len(CLASSES), 3))\n",
    "\n",
    "# Confidence threshold\n",
    "confidence_level = 0.5"
   ]
  },
  {
   "cell_type": "markdown",
   "id": "98203835-b6ce-4cbf-8537-4f567076f05e",
   "metadata": {},
   "source": [
    "## Real-time Object Detection with MobileNetSSD Model and Webcam"
   ]
  },
  {
   "cell_type": "code",
   "execution_count": null,
   "id": "a65195f1-1096-4703-bb1d-6b332c5d98d8",
   "metadata": {},
   "outputs": [],
   "source": [
    "# Initialize the video capture (webcam)\n",
    "vs = cv2.VideoCapture(0)\n",
    "\n",
    "while True:\n",
    "    ret, frame = vs.read()\n",
    "    if not ret:\n",
    "        break\n",
    "\n",
    "    frame = cv2.resize(frame, (600, 600))\n",
    "    blob = cv2.dnn.blobFromImage(frame, 0.007843, (300, 300), 127.5)\n",
    "    net.setInput(blob)\n",
    "    detections = net.forward()\n",
    "\n",
    "    (h, w) = frame.shape[:2]\n",
    "    \n",
    "    for i in np.arange(0, detections.shape[2]):\n",
    "        confidence = detections[0, 0, i, 2]\n",
    "        if confidence > confidence_level:\n",
    "            idx = int(detections[0, 0, i, 1])\n",
    "            \n",
    "            if idx >= 0 and idx < len(CLASSES):\n",
    "                box = detections[0, 0, i, 3:7] * np.array([w, h, w, h])\n",
    "                (startX, startY, endX, endY) = box.astype(\"int\")\n",
    "                label = \"{}: {:.2f}%\".format(CLASSES[idx], confidence * 100)\n",
    "                color = COLORS[idx]\n",
    "                \n",
    "                # Draw bounding box and label\n",
    "                cv2.rectangle(frame, (startX, startY), (endX, endY), color, 2)\n",
    "                y = startY - 15 if startY - 15 > 15 else startY + 15\n",
    "                cv2.putText(frame, label, (startX, y), cv2.FONT_HERSHEY_SIMPLEX, 0.5, color, 2)\n",
    "            else:\n",
    "                print(\"Invalid class index:\", idx)\n",
    "\n",
    "    cv2.imshow('Live detection', frame)\n",
    "    if cv2.waitKey(1) == 27:\n",
    "        break\n",
    "\n",
    "# Release the video capture and close the window\n",
    "vs.release()\n",
    "cv2.destroyAllWindows()\n"
   ]
  }
 ],
 "metadata": {
  "kernelspec": {
   "display_name": "Python 3 (ipykernel)",
   "language": "python",
   "name": "python3"
  },
  "language_info": {
   "codemirror_mode": {
    "name": "ipython",
    "version": 3
   },
   "file_extension": ".py",
   "mimetype": "text/x-python",
   "name": "python",
   "nbconvert_exporter": "python",
   "pygments_lexer": "ipython3",
   "version": "3.9.13"
  }
 },
 "nbformat": 4,
 "nbformat_minor": 5
}
